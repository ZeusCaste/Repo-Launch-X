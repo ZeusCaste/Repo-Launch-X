{
 "cells": [
  {
   "cell_type": "markdown",
   "metadata": {},
   "source": [
    "# Ejercicio 1"
   ]
  },
  {
   "cell_type": "code",
   "execution_count": null,
   "metadata": {},
   "outputs": [],
   "source": [
    "def reporte(tanque, tanque_dos, tanque_tres):\n",
    "    promedio_total = (tanque + tanque_dos + tanque_tres) / 3\n",
    "    return f\"\"\"Reporte:\n",
    "    Promedio total: {promedio_total}%\n",
    "    Tanque 1: {tanque}%\n",
    "    Tanque 2: {tanque_dos}%\n",
    "    Tanque 3: {tanque_tres}% \n",
    "    \"\"\""
   ]
  },
  {
   "cell_type": "code",
   "execution_count": null,
   "metadata": {},
   "outputs": [],
   "source": [
    "print(reporte(80, 70, 85))"
   ]
  },
  {
   "cell_type": "code",
   "execution_count": null,
   "metadata": {},
   "outputs": [],
   "source": [
    "def promedio(values):\n",
    "    total = sum(values)\n",
    "    numbero_de_items = len(values)\n",
    "    return total / numbero_de_items\n",
    "\n",
    "promedio([80, 85, 81]) "
   ]
  },
  {
   "cell_type": "code",
   "execution_count": null,
   "metadata": {},
   "outputs": [],
   "source": [
    "def reporte(tanque, tanque_dos, tanque_tres):\n",
    "    return f\"\"\"Reporte:\n",
    "    Promedio total: {promedio([tanque, tanque_dos, tanque_tres])}%\n",
    "    Tanque 1: {tanque}%\n",
    "    Tanque 2: {tanque_dos}%\n",
    "    Tanque 3: {tanque_tres}% \n",
    "    \"\"\"\n",
    "\n",
    "# Call the updated function again with different values\n",
    "print(reporte(88, 76, 70))"
   ]
  },
  {
   "cell_type": "markdown",
   "metadata": {},
   "source": [
    "# Ejercicio 2"
   ]
  },
  {
   "cell_type": "code",
   "execution_count": 5,
   "metadata": {},
   "outputs": [
    {
     "name": "stdout",
     "output_type": "stream",
     "text": [
      "\n",
      "    Mision con destino a: Luna\n",
      "    Tiempo total de vuelo: 65 minutos\n",
      "    Combustible total: 500000 litros\n",
      "    \n"
     ]
    }
   ],
   "source": [
    "def informe_mision(pre_lanzamiento, tiempo_vuelo, destino, tanque_externo, tanque_interno):\n",
    "    return f\"\"\"\n",
    "    Mision con destino a: {destino}\n",
    "    Tiempo total de vuelo: {pre_lanzamiento + tiempo_vuelo} minutos\n",
    "    Combustible total: {tanque_externo + tanque_interno} litros\n",
    "    \"\"\"\n",
    "\n",
    "print(informe_mision(14, 51, \"Luna\", 200000, 300000))"
   ]
  },
  {
   "cell_type": "code",
   "execution_count": 6,
   "metadata": {},
   "outputs": [
    {
     "name": "stdout",
     "output_type": "stream",
     "text": [
      "\n",
      "    Mision con destino a: Luna\n",
      "    Tiempo total de vuelo: 76 minutos\n",
      "    Combustible total: 500000\n",
      "    \n"
     ]
    }
   ],
   "source": [
    "def informe_mision(destino, *minutos, **combustible):\n",
    "    return f\"\"\"\n",
    "    Mision con destino a: {destino}\n",
    "    Tiempo total de vuelo: {sum(minutos)} minutos\n",
    "    Combustible total: {sum(combustible.values())} litros\n",
    "    \"\"\"\n",
    "\n",
    "print(informe_mision(\"Luna\", 10, 15, 51, interno=300000, externo=200000))"
   ]
  },
  {
   "cell_type": "code",
   "execution_count": 14,
   "metadata": {},
   "outputs": [
    {
     "name": "stdout",
     "output_type": "stream",
     "text": [
      "\n",
      "    Mision con destino a: Luna\n",
      "    Tiempo total de vuelo: 74 minutos\n",
      "    Combustible total: 500000 litros\n",
      "    Tanque interno --> 300000 litros\n",
      "Tanque externo --> 200000 litros\n",
      "\n"
     ]
    }
   ],
   "source": [
    "def informe_mision(destino, *minutos, **combustible):\n",
    "    reporte = f\"\"\"\n",
    "    Mision con destino a: {destino}\n",
    "    Tiempo total de vuelo: {sum(minutos)} minutos\n",
    "    Combustible total: {sum(combustible.values())} litros\n",
    "    \"\"\"\n",
    "    for nombre_tanque, litros in combustible.items():\n",
    "        reporte += f\"Tanque {nombre_tanque} --> {litros} litros\\n\"\n",
    "    return reporte\n",
    "\n",
    "print(informe_mision(\"Luna\", 8, 11, 55, interno=300000, externo=200000))"
   ]
  }
 ],
 "metadata": {
  "interpreter": {
   "hash": "63fd5069d213b44bf678585dea6b12cceca9941eaf7f819626cde1f2670de90d"
  },
  "kernelspec": {
   "display_name": "Python 3.9.5 64-bit",
   "language": "python",
   "name": "python3"
  },
  "language_info": {
   "codemirror_mode": {
    "name": "ipython",
    "version": 3
   },
   "file_extension": ".py",
   "mimetype": "text/x-python",
   "name": "python",
   "nbconvert_exporter": "python",
   "pygments_lexer": "ipython3",
   "version": "3.9.5"
  },
  "orig_nbformat": 4
 },
 "nbformat": 4,
 "nbformat_minor": 2
}
